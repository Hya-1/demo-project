{
 "cells": [
  {
   "cell_type": "code",
   "execution_count": 1,
   "metadata": {},
   "outputs": [
    {
     "name": "stdout",
     "output_type": "stream",
     "text": [
      "Hello, Jupyter Notebook!\n",
      "2 + 2 = 4\n",
      "Sample list: [1, 2, 3, 4, 5]\n"
     ]
    }
   ],
   "source": [
    "# Test if Jupyter Notebook is working correctly\n",
    "print(\"Hello, Jupyter Notebook!\")\n",
    "\n",
    "# Perform a simple calculation\n",
    "result = 2 + 2\n",
    "print(\"2 + 2 =\", result)\n",
    "\n",
    "# Create a simple list and print it\n",
    "sample_list = [1, 2, 3, 4, 5]\n",
    "print(\"Sample list:\", sample_list)"
   ]
  },
  {
   "cell_type": "code",
   "execution_count": null,
   "metadata": {},
   "outputs": [],
   "source": []
  },
  {
   "cell_type": "code",
   "execution_count": null,
   "metadata": {},
   "outputs": [],
   "source": []
  }
 ],
 "metadata": {
  "kernelspec": {
   "display_name": ".venv",
   "language": "python",
   "name": "python3"
  },
  "language_info": {
   "codemirror_mode": {
    "name": "ipython",
    "version": 3
   },
   "file_extension": ".py",
   "mimetype": "text/x-python",
   "name": "python",
   "nbconvert_exporter": "python",
   "pygments_lexer": "ipython3",
   "version": "3.11.9"
  }
 },
 "nbformat": 4,
 "nbformat_minor": 2
}
